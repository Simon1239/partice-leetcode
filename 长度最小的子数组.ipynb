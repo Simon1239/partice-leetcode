{
 "cells": [
  {
   "cell_type": "markdown",
   "metadata": {},
   "source": [
    "## 暴力解法"
   ]
  },
  {
   "cell_type": "code",
   "execution_count": 6,
   "metadata": {},
   "outputs": [],
   "source": [
    "import sys\n",
    "\n",
    "class Solution:\n",
    "    def minSubArrayLen(self, s, nums):\n",
    "        result = sys.maxsize\n",
    "        sum = 0\n",
    "        subLength = 0\n",
    "        for i in range(len(nums)):\n",
    "            sum = 0\n",
    "            for j in range(len(nums)):\n",
    "                sum += nums[j]\n",
    "                if sum >= s:\n",
    "                    subLength = j - i + 1\n",
    "                    if result < subLength:\n",
    "                        pass\n",
    "                    else:\n",
    "                        result = subLength\n",
    "                    break\n",
    "        if result == 0:\n",
    "            return 0\n",
    "        else:\n",
    "            return result"
   ]
  },
  {
   "cell_type": "code",
   "execution_count": 7,
   "metadata": {},
   "outputs": [
    {
     "data": {
      "text/plain": [
       "-1"
      ]
     },
     "execution_count": 7,
     "metadata": {},
     "output_type": "execute_result"
    }
   ],
   "source": [
    "nums = [2,3,1,2,4,3]\n",
    "s = 7\n",
    "S = Solution()\n",
    "S.minSubArrayLen(s,nums)"
   ]
  },
  {
   "cell_type": "markdown",
   "metadata": {},
   "source": [
    "## 滑动窗口"
   ]
  },
  {
   "cell_type": "code",
   "execution_count": 1,
   "metadata": {},
   "outputs": [],
   "source": [
    "import sys\n",
    "\n",
    "class Solution:\n",
    "    def minSubArrayLen1(self, s, nums):\n",
    "        result = sys.maxsize\n",
    "        sum = 0\n",
    "        i = 0\n",
    "        subLength = 0\n",
    "        for j in range(len(nums)):\n",
    "            sum += nums[j]\n",
    "            while sum > s:\n",
    "                subLength = j - i + 1\n",
    "                if result < subLength:\n",
    "                    result = result\n",
    "                else:\n",
    "                    result = subLength\n",
    "                i += 1\n",
    "                sum -= nums[i]\n",
    "        if result == sys.maxsize:\n",
    "            return 0\n",
    "        else:\n",
    "            return result"
   ]
  },
  {
   "cell_type": "code",
   "execution_count": 2,
   "metadata": {},
   "outputs": [
    {
     "data": {
      "text/plain": [
       "3"
      ]
     },
     "execution_count": 2,
     "metadata": {},
     "output_type": "execute_result"
    }
   ],
   "source": [
    "nums = [2,3,1,2,4,3]\n",
    "s = 7\n",
    "S = Solution()\n",
    "S.minSubArrayLen1(s,nums)"
   ]
  },
  {
   "cell_type": "code",
   "execution_count": null,
   "metadata": {},
   "outputs": [],
   "source": []
  }
 ],
 "metadata": {
  "interpreter": {
   "hash": "3bbe877c452889aeb9aed27d625fa69f3d78dcdefd834685084c9a9a9b7962a3"
  },
  "kernelspec": {
   "display_name": "Python 3.7.11 64-bit (conda)",
   "name": "python3"
  },
  "language_info": {
   "codemirror_mode": {
    "name": "ipython",
    "version": 3
   },
   "file_extension": ".py",
   "mimetype": "text/x-python",
   "name": "python",
   "nbconvert_exporter": "python",
   "pygments_lexer": "ipython3",
   "version": "3.7.11"
  },
  "orig_nbformat": 4
 },
 "nbformat": 4,
 "nbformat_minor": 2
}
