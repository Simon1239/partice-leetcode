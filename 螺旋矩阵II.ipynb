{
 "cells": [
  {
   "cell_type": "code",
   "execution_count": null,
   "metadata": {},
   "outputs": [],
   "source": []
  },
  {
   "cell_type": "code",
   "execution_count": 1,
   "metadata": {},
   "outputs": [],
   "source": [
    "class Solution:\n",
    "    def generateMatrix(self, n):\n",
    "        l, r, t, b = 0, n-1, 0, n-1\n",
    "        mat = [[0 for _ in range(n)] for _ in range(n)]\n",
    "        num, tar = 1, n*n\n",
    "        while num <= tar:\n",
    "            for i in range(l,r+1):\n",
    "     mat[t][i] = num\n",
    "                num += 1\n",
    "            t += 1\n",
    "            for i in range(t, b+1):\n",
    "                mat[i][r] = num\n",
    "                num += 1\n",
    "            r -= 1\n",
    "            for i in range(r, l-1, -1):\n",
    "                mat[b][i] = num\n",
    "                num += 1\n",
    "            b -= 1\n",
    "            for i in range(b, t-1, -1):\n",
    "                mat[i][l] = num\n",
    "                num += 1\n",
    "            l += 1\n",
    "        return mat"
   ]
  },
  {
   "cell_type": "code",
   "execution_count": 4,
   "metadata": {},
   "outputs": [
    {
     "data": {
      "text/plain": [
       "[[1, 2, 3, 4], [12, 13, 14, 5], [11, 16, 15, 6], [10, 9, 8, 7]]"
      ]
     },
     "execution_count": 4,
     "metadata": {},
     "output_type": "execute_result"
    }
   ],
   "source": [
    "S = Solution()\n",
    "n = 4\n",
    "S.generateMatrix(n)"
   ]
  },
  {
   "cell_type": "code",
   "execution_count": null,
   "metadata": {},
   "outputs": [],
   "source": []
  }
 ],
 "metadata": {
  "interpreter": {
   "hash": "3bbe877c452889aeb9aed27d625fa69f3d78dcdefd834685084c9a9a9b7962a3"
  },
  "kernelspec": {
   "display_name": "Python 3.7.11 64-bit (conda)",
   "language": "python",
   "name": "python3"
  },
  "language_info": {
   "codemirror_mode": {
    "name": "ipython",
    "version": 3
   },
   "file_extension": ".py",
   "mimetype": "text/x-python",
   "name": "python",
   "nbconvert_exporter": "python",
   "pygments_lexer": "ipython3",
   "version": "3.7.11"
  },
  "orig_nbformat": 4
 },
 "nbformat": 4,
 "nbformat_minor": 2
}
