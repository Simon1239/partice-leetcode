{
 "cells": [
  {
   "cell_type": "markdown",
   "metadata": {},
   "source": [
    "### 双指针"
   ]
  },
  {
   "cell_type": "code",
   "execution_count": 37,
   "metadata": {},
   "outputs": [],
   "source": [
    "class Solution:\n",
    "    def threeSum(self, nums):\n",
    "        result = []\n",
    "        nums.sort()\n",
    "        \n",
    "        for i in range(len(nums)):\n",
    "            if nums[i] > 0:\n",
    "                return result\n",
    "\n",
    "            if i > 0 and nums[i] == nums[i - 1]:\n",
    "                continue\n",
    "                \n",
    "            left  = i + 1\n",
    "            right = len(nums) - 1\n",
    "\n",
    "            while (right > left):\n",
    "                if (nums[i] + nums[left] + nums[right]) > 0:\n",
    "                    right -= 1\n",
    "                elif (nums[i] + nums[left] + nums[right] < 0):\n",
    "                    left += 1\n",
    "                else:\n",
    "                    result.append([nums[i],nums[left],nums[right]])\n",
    "\n",
    "                    while (right > left and nums[right] == nums[right - 1]):\n",
    "                        right -= 1\n",
    "\n",
    "                    while (right > left and nums[left] == nums[left + 1]):\n",
    "                        left += 1\n",
    "\n",
    "                    right -= 1\n",
    "                    left += 1\n",
    "\n",
    "        return result"
   ]
  },
  {
   "cell_type": "code",
   "execution_count": 40,
   "metadata": {},
   "outputs": [
    {
     "data": {
      "text/plain": [
       "[[-10, 3, 7], [-5, 2, 3], [-4, 1, 3], [-1, -1, 2], [-1, 0, 1]]"
      ]
     },
     "execution_count": 40,
     "metadata": {},
     "output_type": "execute_result"
    }
   ],
   "source": [
    "nums = [-1,0,1,2,-1,-4,-5,3,7,-10]\n",
    "S = Solution()\n",
    "S.threeSum(nums)"
   ]
  },
  {
   "cell_type": "code",
   "execution_count": null,
   "metadata": {},
   "outputs": [],
   "source": []
  }
 ],
 "metadata": {
  "interpreter": {
   "hash": "4321a3bc2e1ff6f84b6dfe99fc8bc401e776f94e22164db67834a8f9c55faa33"
  },
  "kernelspec": {
   "display_name": "Python 3.7.11 64-bit (conda)",
   "name": "python3"
  },
  "language_info": {
   "codemirror_mode": {
    "name": "ipython",
    "version": 3
   },
   "file_extension": ".py",
   "mimetype": "text/x-python",
   "name": "python",
   "nbconvert_exporter": "python",
   "pygments_lexer": "ipython3",
   "version": "3.7.11"
  },
  "orig_nbformat": 4
 },
 "nbformat": 4,
 "nbformat_minor": 2
}
