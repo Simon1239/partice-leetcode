{
 "cells": [
  {
   "cell_type": "markdown",
   "metadata": {},
   "source": [
    "### 暴力搜索"
   ]
  },
  {
   "cell_type": "code",
   "execution_count": 9,
   "metadata": {},
   "outputs": [],
   "source": [
    "class Solution:\n",
    "    def removeElement(self, nums, val):\n",
    "        size = len(nums)\n",
    "        for i in range(len(nums)):\n",
    "            if nums[i] == val:\n",
    "                for j in range(i+1,len(nums)):\n",
    "                    nums[j - 1] = nums[j]\n",
    "                i -= 1\n",
    "                size -= 1\n",
    "        \n",
    "        return size\n",
    "        "
   ]
  },
  {
   "cell_type": "markdown",
   "metadata": {},
   "source": [
    "### 双指针法"
   ]
  },
  {
   "cell_type": "code",
   "execution_count": 13,
   "metadata": {},
   "outputs": [],
   "source": [
    "class Solution:\n",
    "    def removeElement1(self, nums, val):\n",
    "        slowIndex = 0\n",
    "        for fastIndex in range(len(nums)):\n",
    "            if val != nums[fastIndex]:\n",
    "                nums[slowIndex] = nums[fastIndex]\n",
    "                slowIndex += 1\n",
    "        \n",
    "        return slowIndex"
   ]
  },
  {
   "cell_type": "code",
   "execution_count": 17,
   "metadata": {},
   "outputs": [
    {
     "data": {
      "text/plain": [
       "7"
      ]
     },
     "execution_count": 17,
     "metadata": {},
     "output_type": "execute_result"
    }
   ],
   "source": [
    "nums = [0,1,2,3,3,0,4,2]\n",
    "val = 1\n",
    "S = Solution()\n",
    "S.removeElement1(nums,val)"
   ]
  },
  {
   "cell_type": "code",
   "execution_count": null,
   "metadata": {},
   "outputs": [],
   "source": []
  }
 ],
 "metadata": {
  "interpreter": {
   "hash": "4321a3bc2e1ff6f84b6dfe99fc8bc401e776f94e22164db67834a8f9c55faa33"
  },
  "kernelspec": {
   "display_name": "Python 3.7.11 64-bit (conda)",
   "name": "python3"
  },
  "language_info": {
   "codemirror_mode": {
    "name": "ipython",
    "version": 3
   },
   "file_extension": ".py",
   "mimetype": "text/x-python",
   "name": "python",
   "nbconvert_exporter": "python",
   "pygments_lexer": "ipython3",
   "version": "3.7.11"
  },
  "orig_nbformat": 4
 },
 "nbformat": 4,
 "nbformat_minor": 2
}
