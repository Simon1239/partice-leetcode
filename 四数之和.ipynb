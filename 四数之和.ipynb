{
 "cells": [
  {
   "cell_type": "markdown",
   "metadata": {},
   "source": [
    "### 双指针"
   ]
  },
  {
   "cell_type": "code",
   "execution_count": 1,
   "metadata": {},
   "outputs": [],
   "source": [
    "class Solution:\n",
    "    def fourSum(self,nums,target):\n",
    "        result = []\n",
    "        nums.sort()\n",
    "        for k in range(len(nums)):\n",
    "            if k > 0 and nums[k] == nums[k - 1]:\n",
    "                continue\n",
    "            for i in range(k + 1, len(nums)):\n",
    "                if i > k + 1 and nums[i] == nums[i - 1]:\n",
    "                    continue\n",
    "\n",
    "                left = i + 1\n",
    "                right = len(nums) - 1\n",
    "                while (right > left):\n",
    "                    if (nums[k] + nums[i] + nums[left] + nums[right] > target):\n",
    "                        right -= 1\n",
    "                    elif (nums[k] + nums[i] + nums[left] + nums[right] < target):\n",
    "                        left += 1\n",
    "                    else:\n",
    "                        result.append([nums[k],nums[i],nums[left],nums[right]])\n",
    "                        while (right > left and nums[right] == nums[right - 1]):\n",
    "                            right -= 1\n",
    "\n",
    "                        while (right > left and nums[left] == nums[left + 1]):\n",
    "                            left += 1\n",
    "\n",
    "                        right -= 1\n",
    "                        left += 1\n",
    "        return result\n",
    "\n"
   ]
  },
  {
   "cell_type": "code",
   "execution_count": 2,
   "metadata": {},
   "outputs": [
    {
     "data": {
      "text/plain": [
       "[[-2, -1, 1, 2], [-2, 0, 0, 2], [-1, 0, 0, 1]]"
      ]
     },
     "execution_count": 2,
     "metadata": {},
     "output_type": "execute_result"
    }
   ],
   "source": [
    "nums = [1,0,-1,0,-2,2]\n",
    "target = 0\n",
    "S =Solution()\n",
    "S.fourSum(nums,target)"
   ]
  },
  {
   "cell_type": "code",
   "execution_count": null,
   "metadata": {},
   "outputs": [],
   "source": []
  }
 ],
 "metadata": {
  "interpreter": {
   "hash": "4321a3bc2e1ff6f84b6dfe99fc8bc401e776f94e22164db67834a8f9c55faa33"
  },
  "kernelspec": {
   "display_name": "Python 3.7.11 64-bit (conda)",
   "name": "python3"
  },
  "language_info": {
   "codemirror_mode": {
    "name": "ipython",
    "version": 3
   },
   "file_extension": ".py",
   "mimetype": "text/x-python",
   "name": "python",
   "nbconvert_exporter": "python",
   "pygments_lexer": "ipython3",
   "version": "3.7.11"
  },
  "orig_nbformat": 4
 },
 "nbformat": 4,
 "nbformat_minor": 2
}
