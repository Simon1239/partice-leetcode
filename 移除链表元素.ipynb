{
 "cells": [
  {
   "cell_type": "code",
   "execution_count": null,
   "metadata": {},
   "outputs": [],
   "source": []
  },
  {
   "cell_type": "code",
   "execution_count": 1,
   "metadata": {},
   "outputs": [],
   "source": [
    "class Solution:\n",
    "    def removeElements(self,head,val):\n",
    "        if not head:\n",
    "            return\n",
    "        head.next = self.removeElements(head.next,val)\n",
    "        return head.next if head.val==val else head"
   ]
  },
  {
   "cell_type": "code",
   "execution_count": null,
   "metadata": {},
   "outputs": [],
   "source": [
    "class Solution:\n",
    "    def removeElements(self,head,val):\n",
    "        while head and head.val == val:\n",
    "            head = head.next\n",
    "        if not head:\n",
    "            return\n",
    "        pre = head\n",
    "        while pre.next:\n",
    "            if pre.next.val == val:\n",
    "                pre.next = pre.next.next\n",
    "            else:\n",
    "                pre = pre.next\n",
    "        return head"
   ]
  }
 ],
 "metadata": {
  "interpreter": {
   "hash": "4321a3bc2e1ff6f84b6dfe99fc8bc401e776f94e22164db67834a8f9c55faa33"
  },
  "kernelspec": {
   "display_name": "Python 3.7.11 64-bit (conda)",
   "language": "python",
   "name": "python3"
  },
  "language_info": {
   "codemirror_mode": {
    "name": "ipython",
    "version": 3
   },
   "file_extension": ".py",
   "mimetype": "text/x-python",
   "name": "python",
   "nbconvert_exporter": "python",
   "pygments_lexer": "ipython3",
   "version": "3.7.11"
  },
  "orig_nbformat": 4
 },
 "nbformat": 4,
 "nbformat_minor": 2
}
