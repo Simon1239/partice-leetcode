{
 "cells": [
  {
   "cell_type": "markdown",
   "metadata": {},
   "source": [
    "## 双指针"
   ]
  },
  {
   "cell_type": "code",
   "execution_count": 1,
   "metadata": {},
   "outputs": [],
   "source": [
    "class ListNode:\n",
    "    def __init__(self, val=0, next=None):\n",
    "        self.val = val\n",
    "        self.next = next"
   ]
  },
  {
   "cell_type": "code",
   "execution_count": 2,
   "metadata": {},
   "outputs": [],
   "source": [
    "class Solution:\n",
    "    def reverList(self, head):\n",
    "        if not head:\n",
    "            return None\n",
    "        elif not head.next:\n",
    "            return head\n",
    "        else:\n",
    "            p = head.next\n",
    "            q = p\n",
    "            head.next = None\n",
    "            while q.next:\n",
    "                q = q.next\n",
    "                p.next = head\n",
    "                head = p\n",
    "                p = q\n",
    "            q.next = head\n",
    "            head = q\n",
    "        return head"
   ]
  },
  {
   "cell_type": "code",
   "execution_count": null,
   "metadata": {},
   "outputs": [],
   "source": []
  }
 ],
 "metadata": {
  "interpreter": {
   "hash": "4321a3bc2e1ff6f84b6dfe99fc8bc401e776f94e22164db67834a8f9c55faa33"
  },
  "kernelspec": {
   "display_name": "Python 3.7.11 64-bit (conda)",
   "name": "python3"
  },
  "language_info": {
   "codemirror_mode": {
    "name": "ipython",
    "version": 3
   },
   "file_extension": ".py",
   "mimetype": "text/x-python",
   "name": "python",
   "nbconvert_exporter": "python",
   "pygments_lexer": "ipython3",
   "version": "3.7.11"
  },
  "orig_nbformat": 4
 },
 "nbformat": 4,
 "nbformat_minor": 2
}
