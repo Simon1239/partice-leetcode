{
 "cells": [
  {
   "cell_type": "code",
   "execution_count": null,
   "metadata": {},
   "outputs": [],
   "source": [
    "class Solution:\n",
    "    def removeElements(self,head,val):\n",
    "        if head == None:\n",
    "            return head\n",
    "        while head != None and head.val == val:\n",
    "            head = head.next\n",
    "        if head == None:\n",
    "            return head\n",
    "\n",
    "        h1,h2 = head,head.next\n",
    "        while h2 != None:\n",
    "            if h2.val == val:\n",
    "                while h2 != None and h2.val == val:\n",
    "                    h2 = h2.next\n",
    "                h1.next = h2\n",
    "            else:\n",
    "                h1 = h1.next\n",
    "                h2 = h2.next\n",
    "        return head"
   ]
  }
 ],
 "metadata": {
  "language_info": {
   "name": "python"
  },
  "orig_nbformat": 4
 },
 "nbformat": 4,
 "nbformat_minor": 2
}
