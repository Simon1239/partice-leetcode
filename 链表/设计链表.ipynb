{
 "cells": [
  {
   "cell_type": "code",
   "execution_count": 1,
   "metadata": {},
   "outputs": [],
   "source": [
    "class Node:\n",
    "    def __init__(self,val):\n",
    "        self.val = val\n",
    "        self.next = None"
   ]
  },
  {
   "cell_type": "code",
   "execution_count": 2,
   "metadata": {},
   "outputs": [],
   "source": [
    "class MyLinkedList:\n",
    "    # 初始化链表\n",
    "    def __init__(self,node=None):\n",
    "        # 如果还没有链表，则调用的时候，出现一个空链表\n",
    "        if node != None:\n",
    "            headNode = Node(node)\n",
    "            self.__head = headNode\n",
    "        # 如果链表输入链表第一个值，则将第一个节点设为链表头结点\n",
    "        else:\n",
    "            self.__head = node\n",
    "\n",
    "    def get(self,index):\n",
    "        count = 0\n",
    "        cur = self.__head\n",
    "        while cur:\n",
    "            if count == index:\n",
    "                return cur.val\n",
    "            count += 1\n",
    "            cur = cur.next\n",
    "        return -1\n",
    "\n",
    "    def addAtHead(self,val):\n",
    "        node = Node(val)\n",
    "        node.next = self.__head\n",
    "        self.__head = node\n",
    "\n",
    "    def addAtTail(self,val):\n",
    "        node = Node(val)\n",
    "        # 如果头结点为None，则将当前节点设置为结点\n",
    "        if self.__head == None:\n",
    "            self.__head = node\n",
    "        else:\n",
    "            # 如果头结点不为None；遍历链表，指导最后一个节点\n",
    "            cur = self.__head\n",
    "            while cur.next != None:\n",
    "                cur = cur.next\n",
    "            cur.next = node\n",
    "\n",
    "    def addAtIndex(self,index,val):\n",
    "        node = Node(val)\n",
    "        if index <= 0:\n",
    "            self.addAtHead(val)\n",
    "        elif index > self.length():\n",
    "            self.addAtTail(val)\n",
    "        else:\n",
    "            count = 0\n",
    "            pre = self.__head\n",
    "            while count < (index - 1):\n",
    "                pre = pre.next\n",
    "                count += 1\n",
    "            node.next = pre.next\n",
    "            pre.next = node\n",
    "\n",
    "    def deleteAtIndex(self,index):\n",
    "        if index < 0:\n",
    "            return\n",
    "        elif index == 0:\n",
    "            self.__head = self.__head.next\n",
    "        else:\n",
    "            count = 0\n",
    "            cur = self.__head\n",
    "            while count < (index - 1):\n",
    "                cur = cur.next\n",
    "                count += 1\n",
    "            cur.next = cur.next.next if cur.next != None else None\n",
    "\n",
    "    def bianli(self):\n",
    "        cur = self.__head\n",
    "        while cur:\n",
    "            print(cur.val)\n",
    "            cur = cur.next\n",
    "\n",
    "    def length(self):\n",
    "        count = 0\n",
    "        cur = self.__head\n",
    "        while cur:\n",
    "            cur = cur.next\n",
    "            count += 1\n",
    "        return count\n"
   ]
  },
  {
   "cell_type": "code",
   "execution_count": 3,
   "metadata": {},
   "outputs": [],
   "source": [
    "linkedList = MyLinkedList()\n",
    "linkedList.addAtHead(1)\n",
    "linkedList.addAtTail(3)\n",
    "linkedList.addAtIndex(1,2)\n",
    "\n"
   ]
  },
  {
   "cell_type": "code",
   "execution_count": 4,
   "metadata": {},
   "outputs": [
    {
     "data": {
      "text/plain": [
       "2"
      ]
     },
     "execution_count": 4,
     "metadata": {},
     "output_type": "execute_result"
    }
   ],
   "source": [
    "linkedList.get(1)"
   ]
  },
  {
   "cell_type": "code",
   "execution_count": 5,
   "metadata": {},
   "outputs": [],
   "source": [
    "linkedList.deleteAtIndex(1)"
   ]
  },
  {
   "cell_type": "code",
   "execution_count": 6,
   "metadata": {},
   "outputs": [
    {
     "data": {
      "text/plain": [
       "3"
      ]
     },
     "execution_count": 6,
     "metadata": {},
     "output_type": "execute_result"
    }
   ],
   "source": [
    "linkedList.get(1)"
   ]
  },
  {
   "cell_type": "code",
   "execution_count": null,
   "metadata": {},
   "outputs": [],
   "source": []
  }
 ],
 "metadata": {
  "interpreter": {
   "hash": "4321a3bc2e1ff6f84b6dfe99fc8bc401e776f94e22164db67834a8f9c55faa33"
  },
  "kernelspec": {
   "display_name": "Python 3.7.11",
   "language": "python",
   "name": "python3"
  },
  "language_info": {
   "codemirror_mode": {
    "name": "ipython",
    "version": 3
   },
   "file_extension": ".py",
   "mimetype": "text/x-python",
   "name": "python",
   "nbconvert_exporter": "python",
   "pygments_lexer": "ipython3",
   "version": "3.7.11"
  },
  "orig_nbformat": 4
 },
 "nbformat": 4,
 "nbformat_minor": 2
}
