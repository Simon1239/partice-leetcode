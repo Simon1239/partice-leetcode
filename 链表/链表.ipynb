{
 "cells": [
  {
   "cell_type": "code",
   "execution_count": 1,
   "metadata": {},
   "outputs": [],
   "source": [
    "class Node():\n",
    "    def __init__(self,value = None, next = None):\n",
    "        self._value = value\n",
    "        self._next = next\n",
    "\n",
    "    def getValue(self):\n",
    "        return self._value\n",
    "\n",
    "    def getNext(self):\n",
    "        return self._next\n",
    "\n",
    "    def setValue(self, new_value):\n",
    "        self._value = new_value\n",
    "\n",
    "    def setNext(self,new_next):\n",
    "        self._next = new_next\n",
    "\n",
    "    "
   ]
  },
  {
   "cell_type": "code",
   "execution_count": 2,
   "metadata": {},
   "outputs": [
    {
     "name": "stderr",
     "output_type": "stream",
     "text": [
      "WARNING: Retrying (Retry(total=4, connect=None, read=None, redirect=None, status=None)) after connection broken by 'ConnectTimeoutError(<pip._vendor.urllib3.connection.HTTPSConnection object at 0x000001F8C5D60948>, 'Connection to pypi.org timed out. (connect timeout=15)')': /simple/traitlets/\n",
      "WARNING: Retrying (Retry(total=3, connect=None, read=None, redirect=None, status=None)) after connection broken by 'ConnectTimeoutError(<pip._vendor.urllib3.connection.HTTPSConnection object at 0x000001F8C5D60F48>, 'Connection to pypi.org timed out. (connect timeout=15)')': /simple/traitlets/\n",
      "WARNING: Retrying (Retry(total=2, connect=None, read=None, redirect=None, status=None)) after connection broken by 'ConnectTimeoutError(<pip._vendor.urllib3.connection.HTTPSConnection object at 0x000001F8C5D745C8>, 'Connection to pypi.org timed out. (connect timeout=15)')': /simple/traitlets/\n",
      "WARNING: Retrying (Retry(total=1, connect=None, read=None, redirect=None, status=None)) after connection broken by 'ConnectTimeoutError(<pip._vendor.urllib3.connection.HTTPSConnection object at 0x000001F8C5D74C08>, 'Connection to pypi.org timed out. (connect timeout=15)')': /simple/traitlets/\n",
      "WARNING: Retrying (Retry(total=0, connect=None, read=None, redirect=None, status=None)) after connection broken by 'ConnectTimeoutError(<pip._vendor.urllib3.connection.HTTPSConnection object at 0x000001F8C5D7A288>, 'Connection to pypi.org timed out. (connect timeout=15)')': /simple/traitlets/\n",
      "ERROR: Could not find a version that satisfies the requirement traitlets (from versions: none)\n",
      "ERROR: No matching distribution found for traitlets\n"
     ]
    }
   ],
   "source": [
    "! D:\\Virtualenv\\work\\python.exe -m pip install traitlets"
   ]
  },
  {
   "cell_type": "code",
   "execution_count": null,
   "metadata": {},
   "outputs": [],
   "source": []
  }
 ],
 "metadata": {
  "interpreter": {
   "hash": "3bbe877c452889aeb9aed27d625fa69f3d78dcdefd834685084c9a9a9b7962a3"
  },
  "kernelspec": {
   "display_name": "Python 3.7.11",
   "language": "python",
   "name": "python3"
  },
  "language_info": {
   "codemirror_mode": {
    "name": "ipython",
    "version": 3
   },
   "file_extension": ".py",
   "mimetype": "text/x-python",
   "name": "python",
   "nbconvert_exporter": "python",
   "pygments_lexer": "ipython3",
   "version": "3.7.11"
  },
  "orig_nbformat": 4
 },
 "nbformat": 4,
 "nbformat_minor": 2
}
